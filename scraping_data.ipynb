{
 "cells": [
  {
   "cell_type": "code",
   "execution_count": 1,
   "metadata": {},
   "outputs": [],
   "source": [
    "import re\n",
    "import json\n",
    "import requests\n",
    "import pandas as pd\n",
    "from bs4 import BeautifulSoup"
   ]
  },
  {
   "cell_type": "code",
   "execution_count": 2,
   "metadata": {},
   "outputs": [],
   "source": [
    "# Вспомогательные функции\n",
    "def check_for_none(x):\n",
    "    if x is None:\n",
    "        return ''\n",
    "    else:\n",
    "        return x.text"
   ]
  },
  {
   "cell_type": "markdown",
   "metadata": {},
   "source": [
    "# Parsing"
   ]
  },
  {
   "cell_type": "markdown",
   "metadata": {},
   "source": [
    "## Avito"
   ]
  },
  {
   "cell_type": "code",
   "execution_count": 3,
   "metadata": {},
   "outputs": [],
   "source": [
    "main_url = 'https://www.avito.ru'\n",
    "add_url = '/moskva_i_mo/avtomobili?p=1'"
   ]
  },
  {
   "cell_type": "code",
   "execution_count": 11,
   "metadata": {},
   "outputs": [
    {
     "name": "stdout",
     "output_type": "stream",
     "text": [
      "https://www.avito.ru/himki/avtomobili/kia_sorento_prime_2020_1914121802\n",
      "None\n"
     ]
    }
   ],
   "source": [
    "pred_ap = []\n",
    "full_ap = []\n",
    "\n",
    "# Короткий текст объявления в шаблоне поиска\n",
    "url = main_url + add_url\n",
    "r = requests.get(url)\n",
    "soup = BeautifulSoup(r.text)\n",
    "ap = soup.findAll('div', {'class': 'snippet-horizontal'})\n",
    "pred_ap.append({\n",
    "    'title': check_for_none(ap[0].find('div', {'class': 'snippet-title-row'})),\n",
    "    'price_comment': check_for_none(ap[0].find('span', {'class': 'snippet-tag'})),\n",
    "    'price': check_for_none(ap[0].find('span', {'class': 'snippet-price'})),\n",
    "    'specific-params':  check_for_none(ap[0].find('div', {'class': 'specific-params_block'})),\n",
    "    'address': check_for_none(ap[0].find('div', {'class': 'item-address'})), \n",
    "})\n",
    "########################################################################\n",
    "# Полный текст внутри объявления\n",
    "full_app = []\n",
    "full_app_dict = {}\n",
    "\n",
    "url = main_url + ap[0].find('a', {'class': 'snippet-link'}, href=True)['href']\n",
    "r = requests.get(url)\n",
    "soup = BeautifulSoup(r.text)\n",
    "\n",
    "\n",
    "fap = soup.find('div', {'class': 'item-params'})\n",
    "\n",
    "li = fap.findAll('li', {'class':'item-params-list-item'})\n",
    "for l in li:\n",
    "    full_app_dict[l.text.split(':')[0].strip()] = l.text.split(':')[1].strip()\n",
    "full_app_dict['address'] = soup.find('div', {'class':'item-address'}).text\n",
    "full_app_dict['full_text_app'] = soup.find('div', class_=re.compile('item-description')).text\n",
    "\n",
    "# Дополенная информация об объекте\n",
    "adv_info = {}\n",
    "\n",
    "fap_adv = soup.find('ul', class_=re.compile('advanced-params'))\n",
    "if fap_adv is not None:\n",
    "    li = fap_adv.findAll('li', {'class': 'advanced-params-param'})\n",
    "    for l in li:\n",
    "        param_list = []\n",
    "        title = l.find('div', {'class': 'advanced-params-param-title'}).text\n",
    "        item_list = l.find('ul', {'class': 'advanced-params-param-list'})  \n",
    "        for il in item_list.findAll('li', {'class': 'advanced-params-param-item'}):\n",
    "                param_list.append(il.text)    \n",
    "        adv_info[title] = param_list\n",
    "\n",
    "#Дополнительная информация по цене в объявлении  \n",
    "add_price = []\n",
    "\n",
    "js = soup.find('div', {'class':'js-item-imv-ssr'})\n",
    "if js is not None:    \n",
    "    add_info = json.loads(js['data-props'])\n",
    "    add_price.append({\n",
    "        'title': add_info['title'],\n",
    "        'subtitle': add_info['subtitle'],\n",
    "        'priceType': add_info['priceType'],\n",
    "        'marketPrice': add_info['marketPrice'],\n",
    "        'isVisibleForUser': add_info['isVisibleForUser'],\n",
    "        'price': add_info['price']\n",
    "    })\n",
    "else:\n",
    "    add_price.append({\n",
    "        'title': '',\n",
    "        'subtitle': '',\n",
    "        'priceType': '',\n",
    "        'marketPrice': '',\n",
    "        'isVisibleForUser': '',\n",
    "        'price': ''\n",
    "    })\n",
    "\n",
    "#Дополнительная проверка по VIN\n",
    "#vin = soup.find('div', {'class':'list-list-2pUcD'})"
   ]
  },
  {
   "cell_type": "code",
   "execution_count": 12,
   "metadata": {},
   "outputs": [
    {
     "data": {
      "text/plain": [
       "[{'title': '',\n",
       "  'subtitle': '',\n",
       "  'priceType': '',\n",
       "  'marketPrice': '',\n",
       "  'isVisibleForUser': '',\n",
       "  'price': ''}]"
      ]
     },
     "execution_count": 12,
     "metadata": {},
     "output_type": "execute_result"
    }
   ],
   "source": [
    "add_price"
   ]
  },
  {
   "cell_type": "code",
   "execution_count": 13,
   "metadata": {},
   "outputs": [
    {
     "data": {
      "text/plain": [
       "[{'title': 'KIA Sorento Prime, 2020Новый',\n",
       "  'price_comment': 'Новый',\n",
       "  'price': '\\n 2 064 900  ₽\\n  ',\n",
       "  'specific-params': '\\n  2.4 AT (188 л.с.), внедорожник, полный, бензин\\n ',\n",
       "  'address': '\\nХимки\\n'}]"
      ]
     },
     "execution_count": 13,
     "metadata": {},
     "output_type": "execute_result"
    }
   ],
   "source": [
    "pred_ap"
   ]
  },
  {
   "cell_type": "code",
   "execution_count": 14,
   "metadata": {},
   "outputs": [
    {
     "data": {
      "text/plain": [
       "[]"
      ]
     },
     "execution_count": 14,
     "metadata": {},
     "output_type": "execute_result"
    }
   ],
   "source": [
    "full_app"
   ]
  },
  {
   "cell_type": "code",
   "execution_count": 15,
   "metadata": {},
   "outputs": [
    {
     "data": {
      "text/plain": [
       "{'Усилитель руля': ['Электрогидроусилитель'],\n",
       " 'Управление климатом': ['Климат однозонный', 'Атермальное остекление'],\n",
       " 'Салон': ['Кожа', 'Кожаный руль'],\n",
       " 'Обогрев': ['Передних сидений', 'Задних сидений', 'Зеркал', 'Руля'],\n",
       " 'Электростеклоподъемники': ['Передние и задние'],\n",
       " 'Электропривод': ['Передних сидений', 'Зеркал'],\n",
       " 'Помощь при вождении': ['Датчик дождя',\n",
       "  'Датчик света',\n",
       "  'Камера заднего вида',\n",
       "  'Круиз-контроль',\n",
       "  'Бортовой компьютер'],\n",
       " 'Противоугонная система': ['Сигнализация',\n",
       "  'Центральный замок',\n",
       "  'Иммобилайзер'],\n",
       " 'Подушки безопасности': ['Фронтальные', 'Шторки', 'Боковые передние'],\n",
       " 'Активная безопасность': ['Антиблокировочная система тормозов (ABS)',\n",
       "  'Антипробуксовочная система (ASR)',\n",
       "  'Система курсовой устойчивости (ESP/ESC/DSC)',\n",
       "  'Система экстренного торможения (EBA/BAS/BA)'],\n",
       " 'Мультимедиа и навигация': ['CD/DVD/Blu-ray',\n",
       "  'MP3',\n",
       "  'Радио',\n",
       "  'Управление на руле'],\n",
       " 'Фары': ['Светодиодные', 'Противотуманные', 'Омыватели фар'],\n",
       " 'Шины и диски': ['17\"'],\n",
       " 'Данные о ТО': ['Есть сервисная книжка', 'На гарантии']}"
      ]
     },
     "execution_count": 15,
     "metadata": {},
     "output_type": "execute_result"
    }
   ],
   "source": [
    "adv_info"
   ]
  },
  {
   "cell_type": "code",
   "execution_count": 16,
   "metadata": {},
   "outputs": [
    {
     "data": {
      "text/plain": [
       "{'Марка': 'KIA',\n",
       " 'Модель': 'Sorento Prime',\n",
       " 'Поколение': 'III рестайлинг (2017—н. в.)',\n",
       " 'Модификация': '2.4 4WD AT (188 л.с.)',\n",
       " 'Год выпуска': '2020',\n",
       " 'VIN или номер кузова': 'XWEP*************',\n",
       " 'Тип кузова': 'внедорожник',\n",
       " 'Количество дверей': '5',\n",
       " 'Тип двигателя': 'бензин',\n",
       " 'Коробка передач': 'автомат',\n",
       " 'Привод': 'полный',\n",
       " 'Руль': 'левый',\n",
       " 'Цвет': 'чёрный',\n",
       " 'Комплектация': 'Luxe',\n",
       " 'Место осмотра': 'Московская область, Химки, Ленинградское шоссе, вл7',\n",
       " 'address': '\\n\\n Московская область, Химки, Ленинградское шоссе, вл7\\n \\n',\n",
       " 'full_text_app': ' \\nУспейте купить Новый KIA Sorento Prime со скидкой до 330 000 рублей! Уникальное предложение при приобретении автомобиля в Киа Центр Шереметьево: 1. Скидка от дилерского центра при приобретении за наличный расчет - до 40 000 рублей. 2. Скидка по программе Трейд-ин (обмен Вашего автомобиля на KIA Sorento Prime) - до 190 000 рублей. 3. Скидка при приобретении автомобиля в кредит - до 100 000 рублей. 4. Дополнительная выгода при сдаче автомобиля KIA по программе Трейд-ин - до 190 000р. 5. Скидка до 80% на все выбранное дополнительное оборудование. Автомобили с ПТС в наличии! Возможность совершить покупку одним днем в том числе с оформлением автомобиля в кредит и принятии в зачет автомобиля по программе трейд-ин. Количество автомобилей ограничено. Максимальный дисконт распространяется на автомобили 2019 г.в. Всегда рады видеть Вас. Звоните!!!Комплектация: KIA Sorento Prime Luxe 2.4 6AT 4X4 (КИА Соренто Прайм)Основные опции: 2020, климат-контроль, аудио, кожа, airbags, ABS, ESP, светодиодные фары, центральный замок, электропривод стекол, электропривод сидений, электропривод зеркал, круиз-контроль, датчик дождя, обогрев лобового стекла, обогрев сидений, парктроник, видеокамера, литые диски, R17Цвет кузова: Aurora Black Pearl - черный перламутрСалон: отделка сидений кожаЦвет обивки сидений: черныйАвтомобиль в наличии на складе дилера .Предложение обновлено 05 марта 2020 г. в 12 ч 04 мин.———————————————————————————КОМПЛЕКТАЦИЯ——————————————————————————————————————————————————————ФУНКЦИОНАЛЬНОЕ ОБОРУДОВАНИЕ———————————————————————————• Центральный замок• Доступ без ключа• Фары: светодиодные• Противотуманные фары• Дневной свет• Омыватель фар• Датчик света• Обогрев зеркал• Обогрев лобового стекла• Обогрев сидений• Обогрев руля• Электропривод зеркал• Электропривод стекол• Электропривод сидений• Усилитель руля• Регулировка руля• Мультифункциональный руль• Система кондиционирования: климат-контроль• Мультимедийная система: аудио• Парктроник• Дистанционное открывание багажника• Складное заднее сиденье• Бортовой компьютер• Круиз-контроль• Запуск без поворота ключа• Датчик дождя———————————————————————————БЕЗОПАСНОСТЬ———————————————————————————• Подушки безопасности, шт: 6• ABS Антиблокировочная система• ESP Электронная система динамической стабилизации• EBA система экстренного торможения• TRC Антипробуксовочная система• HAC Система помощи при подъеме по склону• Датчики давления в шинах• Видеокамера• Крепления для детских сидений• Иммобилайзер• Охранная сигнализация———————————————————————————ИНТЕРЬЕР———————————————————————————• Обивка сидений: кожа*• Цвет обивки сидений: темный*• Количество мест: 5• Тип сидений: обычные• Стекла: атермальные тонированные• Отделка руля: кожа———————————————————————————ЭКСТЕРЬЕР———————————————————————————• Цвет кузова: черный металлик*• Тип кузова: внедорожник• Количество дверей: 5• Рейлинги• Диски: легкосплавные• Размер дисков: R17________* Дополнительные заводские опцииКод объявления: 2954134  '}"
      ]
     },
     "execution_count": 16,
     "metadata": {},
     "output_type": "execute_result"
    }
   ],
   "source": [
    "full_app_dict"
   ]
  },
  {
   "cell_type": "code",
   "execution_count": null,
   "metadata": {},
   "outputs": [],
   "source": []
  }
 ],
 "metadata": {
  "kernelspec": {
   "display_name": "Python 3",
   "language": "python",
   "name": "python3"
  },
  "language_info": {
   "codemirror_mode": {
    "name": "ipython",
    "version": 3
   },
   "file_extension": ".py",
   "mimetype": "text/x-python",
   "name": "python",
   "nbconvert_exporter": "python",
   "pygments_lexer": "ipython3",
   "version": "3.7.4"
  }
 },
 "nbformat": 4,
 "nbformat_minor": 4
}
